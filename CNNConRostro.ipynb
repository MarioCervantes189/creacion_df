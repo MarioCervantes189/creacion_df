{
 "cells": [
  {
   "cell_type": "code",
   "execution_count": 1,
   "metadata": {},
   "outputs": [],
   "source": [
    "import pandas as pd\n",
    "import numpy as np\n",
    "from sklearn.model_selection import train_test_split\n",
    "import tensorflow as tf\n",
    "from tensorflow.keras.utils import to_categorical\n",
    "from tensorflow.keras.preprocessing.image import ImageDataGenerator\n",
    "from tensorflow.keras.callbacks import TensorBoard\n",
    "import matplotlib.pyplot as plt\n",
    "import pickle\n",
    "import seaborn as sns\n",
    "from sklearn.metrics import confusion_matrix\n",
    "\n",
    "import pandas as pd\n",
    "from PIL import Image\n",
    "import matplotlib.pyplot as plt\n",
    "import numpy as np\n",
    "from sklearn.model_selection import train_test_split\n",
    "from sklearn.preprocessing import LabelEncoder\n",
    "from keras.models import Sequential\n",
    "from keras.layers import Dense\n",
    "import tensorflow as tf\n",
    "import subprocess\n",
    "\n",
    "import os\n",
    "import pandas as pd\n",
    "import face_recognition\n",
    "from PIL import Image\n",
    "import matplotlib.pyplot as plt\n",
    "import random\n",
    "import numpy as np"
   ]
  },
  {
   "cell_type": "code",
   "execution_count": 2,
   "metadata": {},
   "outputs": [
    {
     "name": "stdout",
     "output_type": "stream",
     "text": [
      "Cantidad total de memoria VRAM en la GPU: 6.0 GB\n"
     ]
    }
   ],
   "source": [
    "def get_gpu_memory():\n",
    "    \"\"\"Returns the total memory of the GPU in MB\"\"\"\n",
    "    try:\n",
    "        result = subprocess.check_output(\n",
    "            [\"nvidia-smi\", \"--query-gpu=memory.total\", \"--format=csv,nounits,noheader\"], \n",
    "            encoding='utf-8')\n",
    "        return int(result.strip())\n",
    "    except Exception as e:\n",
    "        print(\"Error al obtener la información de la memoria de la GPU:\", e)\n",
    "        return None\n",
    "\n",
    "# Obtener la cantidad de memoria VRAM disponible en la GPU\n",
    "total_memory_mb = get_gpu_memory()\n",
    "if total_memory_mb is not None:\n",
    "    total_memory_gb = total_memory_mb / 1024\n",
    "    print(\"Cantidad total de memoria VRAM en la GPU:\", total_memory_gb, \"GB\")\n",
    "    \n",
    "    # Configurar TensorFlow para limitar el uso de memoria GPU\n",
    "    gpus = tf.config.experimental.list_physical_devices('GPU')\n",
    "    if gpus:\n",
    "        for gpu in gpus:\n",
    "            # Limitar la memoria GPU al máximo disponible\n",
    "            tf.config.experimental.set_memory_growth(gpu, True)\n",
    "else:\n",
    "    print(\"No se pudo obtener la información de la memoria de la GPU.\")"
   ]
  },
  {
   "cell_type": "code",
   "execution_count": 3,
   "metadata": {},
   "outputs": [],
   "source": [
    "df = pd.read_hdf('BD_Emotios_240324.h5')"
   ]
  },
  {
   "cell_type": "code",
   "execution_count": 4,
   "metadata": {},
   "outputs": [
    {
     "data": {
      "text/html": [
       "<div>\n",
       "<style scoped>\n",
       "    .dataframe tbody tr th:only-of-type {\n",
       "        vertical-align: middle;\n",
       "    }\n",
       "\n",
       "    .dataframe tbody tr th {\n",
       "        vertical-align: top;\n",
       "    }\n",
       "\n",
       "    .dataframe thead th {\n",
       "        text-align: right;\n",
       "    }\n",
       "</style>\n",
       "<table border=\"1\" class=\"dataframe\">\n",
       "  <thead>\n",
       "    <tr style=\"text-align: right;\">\n",
       "      <th></th>\n",
       "      <th>Imagen</th>\n",
       "      <th>Caracteristicas</th>\n",
       "      <th>Rostro</th>\n",
       "      <th>Etiqueta</th>\n",
       "    </tr>\n",
       "  </thead>\n",
       "  <tbody>\n",
       "    <tr>\n",
       "      <th>0</th>\n",
       "      <td>[[[165, 166, 161], [165, 166, 161], [165, 166,...</td>\n",
       "      <td>[[[62, 83], [62, 88], [62, 93], [63, 97], [64,...</td>\n",
       "      <td>[[[160, 162, 161], [160, 162, 161], [160, 162,...</td>\n",
       "      <td>bored</td>\n",
       "    </tr>\n",
       "    <tr>\n",
       "      <th>1</th>\n",
       "      <td>[[[164, 166, 161], [165, 167, 162], [164, 166,...</td>\n",
       "      <td>[[[62, 83], [62, 87], [62, 92], [63, 96], [64,...</td>\n",
       "      <td>[[[160, 162, 160], [161, 162, 161], [160, 161,...</td>\n",
       "      <td>bored</td>\n",
       "    </tr>\n",
       "    <tr>\n",
       "      <th>2</th>\n",
       "      <td>[[[165, 165, 163], [165, 165, 163], [164, 165,...</td>\n",
       "      <td>[[[63, 82], [63, 87], [63, 91], [64, 96], [65,...</td>\n",
       "      <td>[[[159, 161, 158], [160, 162, 159], [161, 162,...</td>\n",
       "      <td>bored</td>\n",
       "    </tr>\n",
       "    <tr>\n",
       "      <th>3</th>\n",
       "      <td>[[[165, 166, 162], [165, 165, 164], [165, 165,...</td>\n",
       "      <td>[[[63, 83], [62, 87], [63, 92], [63, 97], [65,...</td>\n",
       "      <td>[[[159, 161, 158], [161, 163, 160], [155, 157,...</td>\n",
       "      <td>bored</td>\n",
       "    </tr>\n",
       "    <tr>\n",
       "      <th>4</th>\n",
       "      <td>[[[165, 166, 161], [166, 167, 162], [165, 167,...</td>\n",
       "      <td>[[[63, 83], [63, 87], [63, 92], [63, 96], [64,...</td>\n",
       "      <td>[[[160, 162, 160], [161, 163, 161], [152, 154,...</td>\n",
       "      <td>bored</td>\n",
       "    </tr>\n",
       "  </tbody>\n",
       "</table>\n",
       "</div>"
      ],
      "text/plain": [
       "                                              Imagen  \\\n",
       "0  [[[165, 166, 161], [165, 166, 161], [165, 166,...   \n",
       "1  [[[164, 166, 161], [165, 167, 162], [164, 166,...   \n",
       "2  [[[165, 165, 163], [165, 165, 163], [164, 165,...   \n",
       "3  [[[165, 166, 162], [165, 165, 164], [165, 165,...   \n",
       "4  [[[165, 166, 161], [166, 167, 162], [165, 167,...   \n",
       "\n",
       "                                     Caracteristicas  \\\n",
       "0  [[[62, 83], [62, 88], [62, 93], [63, 97], [64,...   \n",
       "1  [[[62, 83], [62, 87], [62, 92], [63, 96], [64,...   \n",
       "2  [[[63, 82], [63, 87], [63, 91], [64, 96], [65,...   \n",
       "3  [[[63, 83], [62, 87], [63, 92], [63, 97], [65,...   \n",
       "4  [[[63, 83], [63, 87], [63, 92], [63, 96], [64,...   \n",
       "\n",
       "                                              Rostro Etiqueta  \n",
       "0  [[[160, 162, 161], [160, 162, 161], [160, 162,...    bored  \n",
       "1  [[[160, 162, 160], [161, 162, 161], [160, 161,...    bored  \n",
       "2  [[[159, 161, 158], [160, 162, 159], [161, 162,...    bored  \n",
       "3  [[[159, 161, 158], [161, 163, 160], [155, 157,...    bored  \n",
       "4  [[[160, 162, 160], [161, 163, 161], [152, 154,...    bored  "
      ]
     },
     "execution_count": 4,
     "metadata": {},
     "output_type": "execute_result"
    }
   ],
   "source": [
    "df.head()"
   ]
  },
  {
   "cell_type": "code",
   "execution_count": 5,
   "metadata": {},
   "outputs": [
    {
     "name": "stdout",
     "output_type": "stream",
     "text": [
      "(5037,)\n",
      "(5037,)\n"
     ]
    }
   ],
   "source": [
    "print(df['Imagen'].shape)\n",
    "print(df['Rostro'].shape)"
   ]
  },
  {
   "cell_type": "code",
   "execution_count": 9,
   "metadata": {},
   "outputs": [],
   "source": [
    "# Separar las características y etiquetas\n",
    "X = np.array(df['Rostro'])\n",
    "y = df['Etiqueta']"
   ]
  },
  {
   "cell_type": "code",
   "execution_count": null,
   "metadata": {},
   "outputs": [],
   "source": [
    "X[0].shape"
   ]
  },
  {
   "cell_type": "code",
   "execution_count": 8,
   "metadata": {},
   "outputs": [],
   "source": [
    "for i in range(X.shape[0]):\n",
    "    X[i] = np.array(Image.fromarray(X[i]).resize((150,150)))"
   ]
  },
  {
   "cell_type": "code",
   "execution_count": 17,
   "metadata": {},
   "outputs": [
    {
     "name": "stdout",
     "output_type": "stream",
     "text": [
      "(150, 150, 3)\n",
      "(150, 150, 3)\n"
     ]
    }
   ],
   "source": [
    "\n",
    "    \n",
    "print(X[0].shape)"
   ]
  },
  {
   "cell_type": "code",
   "execution_count": 18,
   "metadata": {},
   "outputs": [],
   "source": [
    "# Codificar las etiquetas\n",
    "etiquetas = y.unique()\n",
    "y_encoded = pd.Categorical(y, categories=etiquetas).codes"
   ]
  },
  {
   "cell_type": "code",
   "execution_count": 19,
   "metadata": {},
   "outputs": [],
   "source": [
    "# Dividir el dataset en conjuntos de entrenamiento y validación\n",
    "X_train, X_val, y_train, y_val = train_test_split(X, y_encoded, test_size=0.2, random_state=42)\n"
   ]
  },
  {
   "cell_type": "code",
   "execution_count": 20,
   "metadata": {},
   "outputs": [],
   "source": [
    "# Convertir las etiquetas a formato one-hot\n",
    "y_train_one_hot = to_categorical(y_train)\n",
    "y_val_one_hot = to_categorical(y_val)"
   ]
  },
  {
   "cell_type": "code",
   "execution_count": 21,
   "metadata": {},
   "outputs": [],
   "source": [
    "# Convertir las imágenes a arrays numpy y normalizarlas\n",
    "X_train = np.array([np.array(img) for img in X_train])\n",
    "X_val = np.array([np.array(img) for img in X_val])"
   ]
  },
  {
   "cell_type": "code",
   "execution_count": 22,
   "metadata": {},
   "outputs": [],
   "source": [
    "# Normalizar las imágenes dividiendo por 255.0\n",
    "X_train = X_train.astype('float32') / 255.0\n",
    "X_val = X_val.astype('float32') / 255.0"
   ]
  },
  {
   "cell_type": "code",
   "execution_count": 23,
   "metadata": {},
   "outputs": [],
   "source": [
    "# Definir el generador de imágenes para aumentar el dataset de entrenamiento\n",
    "datagen = ImageDataGenerator(\n",
    "    rotation_range=20,\n",
    "    width_shift_range=0.2,\n",
    "    height_shift_range=0.2,\n",
    "    shear_range=0.2,\n",
    "    zoom_range=0.2,\n",
    "    horizontal_flip=True,\n",
    "    fill_mode='nearest'\n",
    ")"
   ]
  },
  {
   "cell_type": "code",
   "execution_count": 24,
   "metadata": {},
   "outputs": [],
   "source": [
    "# Aumentar el dataset de entrenamiento utilizando el generador de imágenes\n",
    "train_generator = datagen.flow(X_train, y_train_one_hot, batch_size=32)\n"
   ]
  },
  {
   "cell_type": "code",
   "execution_count": 25,
   "metadata": {},
   "outputs": [],
   "source": [
    "# Definir el modelo de red neuronal convolucional (CNN)\n",
    "model = tf.keras.Sequential([\n",
    "    tf.keras.layers.Conv2D(32, (3, 3), activation='relu', input_shape=(150, 150, 3)),\n",
    "    tf.keras.layers.MaxPooling2D((2, 2)),\n",
    "    tf.keras.layers.Conv2D(64, (3, 3), activation='relu'),\n",
    "    tf.keras.layers.MaxPooling2D((2, 2)),\n",
    "    tf.keras.layers.Conv2D(128, (3, 3), activation='relu'),\n",
    "    tf.keras.layers.MaxPooling2D((2, 2)),\n",
    "    tf.keras.layers.Flatten(),\n",
    "    tf.keras.layers.Dropout(0.5),\n",
    "    tf.keras.layers.Dense(512, activation='relu'),\n",
    "    tf.keras.layers.Dense(len(etiquetas), activation='softmax')  # Capa de salida con activación softmax\n",
    "])\n"
   ]
  },
  {
   "cell_type": "code",
   "execution_count": 26,
   "metadata": {},
   "outputs": [],
   "source": [
    "# Compilar el modelo\n",
    "model.compile(optimizer='adam',\n",
    "              loss='categorical_crossentropy',\n",
    "              metrics=['accuracy'])\n"
   ]
  },
  {
   "cell_type": "code",
   "execution_count": 27,
   "metadata": {},
   "outputs": [
    {
     "name": "stdout",
     "output_type": "stream",
     "text": [
      "Epoch 1/5\n",
      "126/126 [==============================] - 20s 134ms/step - loss: 1.1062 - accuracy: 0.5051 - val_loss: 0.8414 - val_accuracy: 0.6389\n",
      "Epoch 2/5\n",
      "126/126 [==============================] - 17s 131ms/step - loss: 0.9133 - accuracy: 0.5788 - val_loss: 0.8242 - val_accuracy: 0.6726\n",
      "Epoch 3/5\n",
      "126/126 [==============================] - 17s 138ms/step - loss: 0.8932 - accuracy: 0.5858 - val_loss: 0.8216 - val_accuracy: 0.6290\n",
      "Epoch 4/5\n",
      "126/126 [==============================] - 18s 141ms/step - loss: 0.8614 - accuracy: 0.6128 - val_loss: 0.8324 - val_accuracy: 0.6141\n",
      "Epoch 5/5\n",
      "126/126 [==============================] - 17s 138ms/step - loss: 0.8571 - accuracy: 0.6073 - val_loss: 0.7748 - val_accuracy: 0.6687\n"
     ]
    }
   ],
   "source": [
    "# Entrenar el modelo con el callback de TensorBoard\n",
    "history = model.fit(train_generator,\n",
    "                    epochs=5,\n",
    "                    validation_data=(X_val, y_val_one_hot),\n",
    "                    verbose=1,\n",
    "                    )\n"
   ]
  },
  {
   "cell_type": "code",
   "execution_count": 56,
   "metadata": {},
   "outputs": [],
   "source": [
    "# Guardar el modelo\n",
    "#model.save('modelo_cnn.h5')"
   ]
  },
  {
   "cell_type": "code",
   "execution_count": 28,
   "metadata": {},
   "outputs": [
    {
     "name": "stdout",
     "output_type": "stream",
     "text": [
      "32/32 [==============================] - 1s 15ms/step\n"
     ]
    }
   ],
   "source": [
    "# Obtener las predicciones del conjunto de validación\n",
    "y_pred = model.predict(X_val)\n",
    "y_pred_classes = np.argmax(y_pred, axis=1)"
   ]
  },
  {
   "cell_type": "code",
   "execution_count": 29,
   "metadata": {},
   "outputs": [],
   "source": [
    "# Calcular la matriz de confusión\n",
    "conf_mat = confusion_matrix(np.argmax(y_val_one_hot, axis=1), y_pred_classes)"
   ]
  },
  {
   "cell_type": "code",
   "execution_count": 30,
   "metadata": {},
   "outputs": [
    {
     "data": {
      "image/png": "[encoded data removed]",
      "text/plain": [
       "<Figure size 800x600 with 2 Axes>"
      ]
     },
     "metadata": {},
     "output_type": "display_data"
    }
   ],
   "source": [
    "# Visualizar la matriz de confusión como un mapa de calor\n",
    "plt.figure(figsize=(8, 6))\n",
    "sns.heatmap(conf_mat, annot=True, fmt='d', cmap='Blues')\n",
    "plt.xlabel('Clases Predichas')\n",
    "plt.ylabel('Clases Verdaderas')\n",
    "plt.title('Matriz de Confusión')\n",
    "plt.tight_layout()\n",
    "plt.show()"
   ]
  }
 ],
 "metadata": {
  "kernelspec": {
   "display_name": "tf",
   "language": "python",
   "name": "python3"
  },
  "language_info": {
   "codemirror_mode": {
    "name": "ipython",
    "version": 3
   },
   "file_extension": ".py",
   "mimetype": "text/x-python",
   "name": "python",
   "nbconvert_exporter": "python",
   "pygments_lexer": "ipython3",
   "version": "3.9.18"
  }
 },
 "nbformat": 4,
 "nbformat_minor": 2
}
