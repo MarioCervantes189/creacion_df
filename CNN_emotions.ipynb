{
 "cells": [
  {
   "cell_type": "code",
   "execution_count": 4,
   "metadata": {},
   "outputs": [],
   "source": [
    "import pandas as pd\n",
    "import numpy as np\n",
    "from sklearn.model_selection import train_test_split\n",
    "import tensorflow as tf\n",
    "from tensorflow.keras.utils import to_categorical\n",
    "from tensorflow.keras.preprocessing.image import ImageDataGenerator\n",
    "from tensorflow.keras.callbacks import TensorBoard\n",
    "import matplotlib.pyplot as plt\n",
    "import pickle\n",
    "import seaborn as sns\n",
    "from sklearn.metrics import confusion_matrix"
   ]
  },
  {
   "cell_type": "code",
   "execution_count": 5,
   "metadata": {},
   "outputs": [],
   "source": [
    "df = pd.read_pickle('emotions_dataset.pkl')\n"
   ]
  },
  {
   "cell_type": "code",
   "execution_count": 38,
   "metadata": {},
   "outputs": [
    {
     "data": {
      "text/html": [
       "<div>\n",
       "<style scoped>\n",
       "    .dataframe tbody tr th:only-of-type {\n",
       "        vertical-align: middle;\n",
       "    }\n",
       "\n",
       "    .dataframe tbody tr th {\n",
       "        vertical-align: top;\n",
       "    }\n",
       "\n",
       "    .dataframe thead th {\n",
       "        text-align: right;\n",
       "    }\n",
       "</style>\n",
       "<table border=\"1\" class=\"dataframe\">\n",
       "  <thead>\n",
       "    <tr style=\"text-align: right;\">\n",
       "      <th></th>\n",
       "      <th>Imagen</th>\n",
       "      <th>Imagen con zoom</th>\n",
       "      <th>Hitos faciales</th>\n",
       "      <th>Etiquetas</th>\n",
       "      <th>Hitos faciales válidos</th>\n",
       "    </tr>\n",
       "  </thead>\n",
       "  <tbody>\n",
       "    <tr>\n",
       "      <th>0</th>\n",
       "      <td>[[[165, 165, 162], [165, 166, 161], [165, 166,...</td>\n",
       "      <td>[[160, 160, 160, 160, 160, 160, 160, 160, 160,...</td>\n",
       "      <td>[[[62, 83], [62, 88], [62, 92], [63, 97], [64,...</td>\n",
       "      <td>bored</td>\n",
       "      <td>[[[62, 83], [62, 88], [62, 92], [63, 97], [64,...</td>\n",
       "    </tr>\n",
       "    <tr>\n",
       "      <th>1</th>\n",
       "      <td>[[[164, 166, 161], [165, 167, 162], [164, 166,...</td>\n",
       "      <td>[[160, 160, 160, 160, 160, 160, 160, 160, 160,...</td>\n",
       "      <td>[[[62, 83], [62, 87], [63, 92], [63, 97], [64,...</td>\n",
       "      <td>bored</td>\n",
       "      <td>[[[62, 83], [62, 87], [63, 92], [63, 97], [64,...</td>\n",
       "    </tr>\n",
       "    <tr>\n",
       "      <th>2</th>\n",
       "      <td>[[[165, 165, 163], [165, 165, 163], [164, 165,...</td>\n",
       "      <td>[[159, 159, 159, 159, 159, 159, 159, 159, 159,...</td>\n",
       "      <td>[[[63, 82], [63, 87], [63, 91], [63, 96], [65,...</td>\n",
       "      <td>bored</td>\n",
       "      <td>[[[63, 82], [63, 87], [63, 91], [63, 96], [65,...</td>\n",
       "    </tr>\n",
       "    <tr>\n",
       "      <th>3</th>\n",
       "      <td>[[[165, 166, 162], [165, 165, 163], [165, 165,...</td>\n",
       "      <td>[[159, 159, 159, 159, 159, 159, 159, 159, 159,...</td>\n",
       "      <td>[[[63, 83], [63, 87], [63, 92], [63, 97], [64,...</td>\n",
       "      <td>bored</td>\n",
       "      <td>[[[63, 83], [63, 87], [63, 92], [63, 97], [64,...</td>\n",
       "    </tr>\n",
       "    <tr>\n",
       "      <th>4</th>\n",
       "      <td>[[[165, 166, 161], [166, 167, 162], [165, 167,...</td>\n",
       "      <td>[[160, 160, 160, 160, 160, 160, 160, 160, 160,...</td>\n",
       "      <td>[[[63, 82], [63, 87], [63, 91], [63, 96], [65,...</td>\n",
       "      <td>bored</td>\n",
       "      <td>[[[63, 82], [63, 87], [63, 91], [63, 96], [65,...</td>\n",
       "    </tr>\n",
       "  </tbody>\n",
       "</table>\n",
       "</div>"
      ],
      "text/plain": [
       "                                              Imagen  \\\n",
       "0  [[[165, 165, 162], [165, 166, 161], [165, 166,...   \n",
       "1  [[[164, 166, 161], [165, 167, 162], [164, 166,...   \n",
       "2  [[[165, 165, 163], [165, 165, 163], [164, 165,...   \n",
       "3  [[[165, 166, 162], [165, 165, 163], [165, 165,...   \n",
       "4  [[[165, 166, 161], [166, 167, 162], [165, 167,...   \n",
       "\n",
       "                                     Imagen con zoom  \\\n",
       "0  [[160, 160, 160, 160, 160, 160, 160, 160, 160,...   \n",
       "1  [[160, 160, 160, 160, 160, 160, 160, 160, 160,...   \n",
       "2  [[159, 159, 159, 159, 159, 159, 159, 159, 159,...   \n",
       "3  [[159, 159, 159, 159, 159, 159, 159, 159, 159,...   \n",
       "4  [[160, 160, 160, 160, 160, 160, 160, 160, 160,...   \n",
       "\n",
       "                                      Hitos faciales Etiquetas  \\\n",
       "0  [[[62, 83], [62, 88], [62, 92], [63, 97], [64,...     bored   \n",
       "1  [[[62, 83], [62, 87], [63, 92], [63, 97], [64,...     bored   \n",
       "2  [[[63, 82], [63, 87], [63, 91], [63, 96], [65,...     bored   \n",
       "3  [[[63, 83], [63, 87], [63, 92], [63, 97], [64,...     bored   \n",
       "4  [[[63, 82], [63, 87], [63, 91], [63, 96], [65,...     bored   \n",
       "\n",
       "                              Hitos faciales válidos  \n",
       "0  [[[62, 83], [62, 88], [62, 92], [63, 97], [64,...  \n",
       "1  [[[62, 83], [62, 87], [63, 92], [63, 97], [64,...  \n",
       "2  [[[63, 82], [63, 87], [63, 91], [63, 96], [65,...  \n",
       "3  [[[63, 83], [63, 87], [63, 92], [63, 97], [64,...  \n",
       "4  [[[63, 82], [63, 87], [63, 91], [63, 96], [65,...  "
      ]
     },
     "execution_count": 38,
     "metadata": {},
     "output_type": "execute_result"
    }
   ],
   "source": [
    "df.head()"
   ]
  },
  {
   "cell_type": "code",
   "execution_count": 39,
   "metadata": {},
   "outputs": [
    {
     "name": "stdout",
     "output_type": "stream",
     "text": [
      "[[160 160 160 ... 161 161 161]\n",
      " [160 160 160 ... 161 161 161]\n",
      " [160 160 160 ... 161 161 161]\n",
      " ...\n",
      " [154 154 154 ... 156 156 156]\n",
      " [167 167 167 ... 169 169 169]\n",
      " [172 172 172 ... 174 174 174]]\n"
     ]
    }
   ],
   "source": [
    "print(df['Imagen con zoom'].values[0])"
   ]
  },
  {
   "cell_type": "code",
   "execution_count": 45,
   "metadata": {},
   "outputs": [
    {
     "data": {
      "text/plain": [
       "(150, 150)"
      ]
     },
     "execution_count": 45,
     "metadata": {},
     "output_type": "execute_result"
    }
   ],
   "source": [
    "df['Imagen con zoom'][0].shape  "
   ]
  },
  {
   "cell_type": "code",
   "execution_count": 46,
   "metadata": {},
   "outputs": [
    {
     "name": "stdout",
     "output_type": "stream",
     "text": [
      "(5020, 150, 150, 3)\n"
     ]
    }
   ],
   "source": [
    "# Crear una nueva columna para almacenar solo los registros que cumplan con la forma deseada\n",
    "df['Imagen Zoom Valida'] = df['Imagen con zoom'].apply(lambda x: x if np.array(x).shape == (150, 150, 3) else None)\n",
    "\n",
    "# Eliminar los registros que no cumplen con la forma deseada\n",
    "df = df.dropna(subset=['Imagen Zoom Valida'])\n",
    "\n",
    "# Convertir la columna 'Hitos faciales válidos' en un array NumPy\n",
    "puntos = np.array(df['Imagen Zoom Valida'].tolist())\n",
    "\n",
    "# Verificar la forma de X\n",
    "print(puntos.shape)"
   ]
  },
  {
   "cell_type": "code",
   "execution_count": 47,
   "metadata": {},
   "outputs": [
    {
     "name": "stdout",
     "output_type": "stream",
     "text": [
      "(5020,)\n",
      "(5020,)\n"
     ]
    }
   ],
   "source": [
    "print(df['Imagen'].shape)\n",
    "print(df['Imagen con zoom'].shape)"
   ]
  },
  {
   "cell_type": "code",
   "execution_count": 42,
   "metadata": {},
   "outputs": [
    {
     "name": "stdout",
     "output_type": "stream",
     "text": [
      "<class 'pandas.core.frame.DataFrame'>\n",
      "Index: 5035 entries, 0 to 5055\n",
      "Data columns (total 5 columns):\n",
      " #   Column                  Non-Null Count  Dtype \n",
      "---  ------                  --------------  ----- \n",
      " 0   Imagen                  5035 non-null   object\n",
      " 1   Imagen con zoom         5035 non-null   object\n",
      " 2   Hitos faciales          5035 non-null   object\n",
      " 3   Etiquetas               5035 non-null   object\n",
      " 4   Hitos faciales válidos  5035 non-null   object\n",
      "dtypes: object(5)\n",
      "memory usage: 365.1+ KB\n"
     ]
    }
   ],
   "source": [
    "df.info()"
   ]
  },
  {
   "cell_type": "code",
   "execution_count": 8,
   "metadata": {},
   "outputs": [
    {
     "name": "stdout",
     "output_type": "stream",
     "text": [
      "(5035, 1, 72, 2)\n"
     ]
    }
   ],
   "source": [
    "# Crear una nueva columna para almacenar solo los registros que cumplan con la forma deseada\n",
    "df['Hitos faciales válidos'] = df['Hitos faciales'].apply(lambda x: x if np.array(x).shape == (1, 72, 2) else None)\n",
    "\n",
    "# Eliminar los registros que no cumplen con la forma deseada\n",
    "df = df.dropna(subset=['Hitos faciales válidos'])\n",
    "\n",
    "# Convertir la columna 'Hitos faciales válidos' en un array NumPy\n",
    "puntos = np.array(df['Hitos faciales válidos'].tolist())\n",
    "\n",
    "# Verificar la forma de X\n",
    "print(puntos.shape)"
   ]
  },
  {
   "cell_type": "code",
   "execution_count": 48,
   "metadata": {},
   "outputs": [],
   "source": [
    "X = np.array(df['Imagen con zoom'])\n",
    "y = df['Etiquetas']"
   ]
  },
  {
   "cell_type": "code",
   "execution_count": 43,
   "metadata": {},
   "outputs": [
    {
     "data": {
      "text/plain": [
       "(150, 150, 3)"
      ]
     },
     "execution_count": 43,
     "metadata": {},
     "output_type": "execute_result"
    }
   ],
   "source": [
    "X[0].shape"
   ]
  },
  {
   "cell_type": "code",
   "execution_count": 49,
   "metadata": {},
   "outputs": [],
   "source": [
    "etiquetas = y.unique()\n",
    "y_encoded = pd.Categorical(y, categories=etiquetas).codes"
   ]
  },
  {
   "cell_type": "code",
   "execution_count": 50,
   "metadata": {},
   "outputs": [],
   "source": [
    "# Dividir el dataset en conjuntos de entrenamiento y validación\n",
    "X_train, X_val, y_train, y_val = train_test_split(X, y_encoded, test_size=0.2, random_state=42)"
   ]
  },
  {
   "cell_type": "code",
   "execution_count": 51,
   "metadata": {},
   "outputs": [],
   "source": [
    "# Convertir las etiquetas a formato one-hot\n",
    "y_train_one_hot = to_categorical(y_train)\n",
    "y_val_one_hot = to_categorical(y_val)"
   ]
  },
  {
   "cell_type": "code",
   "execution_count": 52,
   "metadata": {},
   "outputs": [],
   "source": [
    "\n",
    "# Convertir las imágenes a arrays numpy y normalizarlas\n",
    "X_train = np.array([np.array(img) for img in X_train])\n",
    "X_val = np.array([np.array(img) for img in X_val])\n"
   ]
  },
  {
   "cell_type": "code",
   "execution_count": 53,
   "metadata": {},
   "outputs": [],
   "source": [
    "# Normalizar las imágenes dividiendo por 255.0\n",
    "X_train = X_train.astype('float32') / 255.0\n",
    "X_val = X_val.astype('float32') / 255.0"
   ]
  },
  {
   "cell_type": "code",
   "execution_count": 54,
   "metadata": {},
   "outputs": [],
   "source": [
    "# Definir el generador de imágenes para aumentar el dataset de entrenamiento\n",
    "datagen = ImageDataGenerator(\n",
    "    rotation_range=20,\n",
    "    width_shift_range=0.2,\n",
    "    height_shift_range=0.2,\n",
    "    shear_range=0.2,\n",
    "    zoom_range=0.2,\n",
    "    horizontal_flip=True,\n",
    "    fill_mode='nearest'\n",
    ")"
   ]
  },
  {
   "cell_type": "code",
   "execution_count": 55,
   "metadata": {},
   "outputs": [],
   "source": [
    "# Aumentar el dataset de entrenamiento utilizando el generador de imágenes\n",
    "train_generator = datagen.flow(X_train, y_train_one_hot, batch_size=32)\n"
   ]
  },
  {
   "cell_type": "code",
   "execution_count": 56,
   "metadata": {},
   "outputs": [
    {
     "name": "stderr",
     "output_type": "stream",
     "text": [
      "C:\\Users\\Acer Nitro 5\\AppData\\Local\\Packages\\PythonSoftwareFoundation.Python.3.9_qbz5n2kfra8p0\\LocalCache\\local-packages\\Python39\\site-packages\\keras\\src\\layers\\convolutional\\base_conv.py:99: UserWarning: Do not pass an `input_shape`/`input_dim` argument to a layer. When using Sequential models, prefer using an `Input(shape)` object as the first layer in the model instead.\n",
      "  super().__init__(\n"
     ]
    }
   ],
   "source": [
    "# Definir el modelo de red neuronal convolucional (CNN)\n",
    "model = tf.keras.Sequential([\n",
    "    tf.keras.layers.Conv2D(32, (3, 3), activation='relu', input_shape=(150, 150, 3)),\n",
    "    tf.keras.layers.MaxPooling2D((2, 2)),\n",
    "    tf.keras.layers.Conv2D(64, (3, 3), activation='relu'),\n",
    "    tf.keras.layers.MaxPooling2D((2, 2)),\n",
    "    tf.keras.layers.Conv2D(128, (3, 3), activation='relu'),\n",
    "    tf.keras.layers.MaxPooling2D((2, 2)),\n",
    "    tf.keras.layers.Flatten(),\n",
    "    tf.keras.layers.Dropout(0.5),\n",
    "    tf.keras.layers.Dense(512, activation='relu'),\n",
    "    tf.keras.layers.Dense(len(etiquetas), activation='softmax')  # Capa de salida con activación softmax\n",
    "])\n"
   ]
  },
  {
   "cell_type": "code",
   "execution_count": 57,
   "metadata": {},
   "outputs": [],
   "source": [
    "# Compilar el modelo\n",
    "model.compile(optimizer='adam',\n",
    "              loss='categorical_crossentropy',\n",
    "              metrics=['accuracy'])\n"
   ]
  },
  {
   "cell_type": "code",
   "execution_count": 58,
   "metadata": {},
   "outputs": [
    {
     "name": "stdout",
     "output_type": "stream",
     "text": [
      "Epoch 1/5\n"
     ]
    },
    {
     "name": "stderr",
     "output_type": "stream",
     "text": [
      "C:\\Users\\Acer Nitro 5\\AppData\\Local\\Packages\\PythonSoftwareFoundation.Python.3.9_qbz5n2kfra8p0\\LocalCache\\local-packages\\Python39\\site-packages\\keras\\src\\trainers\\data_adapters\\py_dataset_adapter.py:122: UserWarning: Your `PyDataset` class should call `super().__init__(**kwargs)` in its constructor. `**kwargs` can include `workers`, `use_multiprocessing`, `max_queue_size`. Do not pass these arguments to `fit()`, as they will be ignored.\n",
      "  self._warn_if_super_not_called()\n"
     ]
    },
    {
     "name": "stdout",
     "output_type": "stream",
     "text": [
      "\u001b[1m126/126\u001b[0m \u001b[32m━━━━━━━━━━━━━━━━━━━━\u001b[0m\u001b[37m\u001b[0m \u001b[1m119s\u001b[0m 703ms/step - accuracy: 0.4220 - loss: 1.4231 - val_accuracy: 0.6245 - val_loss: 0.8746\n",
      "Epoch 2/5\n",
      "\u001b[1m126/126\u001b[0m \u001b[32m━━━━━━━━━━━━━━━━━━━━\u001b[0m\u001b[37m\u001b[0m \u001b[1m87s\u001b[0m 684ms/step - accuracy: 0.5864 - loss: 0.9326 - val_accuracy: 0.6404 - val_loss: 0.7915\n",
      "Epoch 3/5\n",
      "\u001b[1m126/126\u001b[0m \u001b[32m━━━━━━━━━━━━━━━━━━━━\u001b[0m\u001b[37m\u001b[0m \u001b[1m95s\u001b[0m 743ms/step - accuracy: 0.5916 - loss: 0.8944 - val_accuracy: 0.6633 - val_loss: 0.8261\n",
      "Epoch 4/5\n",
      "\u001b[1m126/126\u001b[0m \u001b[32m━━━━━━━━━━━━━━━━━━━━\u001b[0m\u001b[37m\u001b[0m \u001b[1m93s\u001b[0m 726ms/step - accuracy: 0.6237 - loss: 0.8649 - val_accuracy: 0.6554 - val_loss: 0.7751\n",
      "Epoch 5/5\n",
      "\u001b[1m126/126\u001b[0m \u001b[32m━━━━━━━━━━━━━━━━━━━━\u001b[0m\u001b[37m\u001b[0m \u001b[1m93s\u001b[0m 727ms/step - accuracy: 0.6084 - loss: 0.8784 - val_accuracy: 0.6653 - val_loss: 0.7821\n"
     ]
    }
   ],
   "source": [
    "# Entrenar el modelo con el callback de TensorBoard\n",
    "history = model.fit(train_generator,\n",
    "                    epochs=5,\n",
    "                    validation_data=(X_val, y_val_one_hot),\n",
    "                    verbose=1,\n",
    "                    )\n"
   ]
  },
  {
   "cell_type": "code",
   "execution_count": 59,
   "metadata": {},
   "outputs": [
    {
     "name": "stdout",
     "output_type": "stream",
     "text": [
      "Loss: 0.7821480631828308, Accuracy: 0.6653386354446411\n"
     ]
    }
   ],
   "source": [
    "# Evaluar el modelo\n",
    "loss, accuracy = model.evaluate(X_val, y_val_one_hot, verbose=0)\n",
    "print(f'Loss: {loss}, Accuracy: {accuracy}')"
   ]
  },
  {
   "cell_type": "code",
   "execution_count": 60,
   "metadata": {},
   "outputs": [
    {
     "name": "stderr",
     "output_type": "stream",
     "text": [
      "WARNING:absl:You are saving your model as an HDF5 file via `model.save()` or `keras.saving.save_model(model)`. This file format is considered legacy. We recommend using instead the native Keras format, e.g. `model.save('my_model.keras')` or `keras.saving.save_model(model, 'my_model.keras')`. \n"
     ]
    }
   ],
   "source": [
    "model.save('modeloCNN.h5')"
   ]
  }
 ],
 "metadata": {
  "kernelspec": {
   "display_name": "Python 3",
   "language": "python",
   "name": "python3"
  },
  "language_info": {
   "codemirror_mode": {
    "name": "ipython",
    "version": 3
   },
   "file_extension": ".py",
   "mimetype": "text/x-python",
   "name": "python",
   "nbconvert_exporter": "python",
   "pygments_lexer": "ipython3",
   "version": "3.9.13"
  }
 },
 "nbformat": 4,
 "nbformat_minor": 2
}
